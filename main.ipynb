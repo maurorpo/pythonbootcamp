{
  "nbformat": 4,
  "nbformat_minor": 0,
  "metadata": {
    "colab": {
      "provenance": [],
      "toc_visible": true,
      "authorship_tag": "ABX9TyOlBblLwA4fkI6SjPT1UO/o"
    },
    "kernelspec": {
      "name": "python3",
      "display_name": "Python 3"
    },
    "language_info": {
      "name": "python"
    }
  },
  "cells": [
    {
      "cell_type": "markdown",
      "source": [
        "# Intro Bootcamp Python/Linux\n",
        "\n",
        "Recursos principales:\n",
        "1. Repositorio: [GitHub](https://github.com/codingupmyfuture/bootcamplinuxpython)\n",
        "2. [Presentación curso](contenido.curso/001.documentos/001.presentacion.curso.2023.pdf)"
      ],
      "metadata": {
        "id": "3A_rJ0eXlL4Q"
      }
    },
    {
      "cell_type": "markdown",
      "source": [],
      "metadata": {
        "id": "IBhdacHXnNFE"
      }
    }
  ]
}